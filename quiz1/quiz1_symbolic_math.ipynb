{
 "cells": [
  {
   "cell_type": "markdown",
   "id": "6e19d14e-691a-481c-9cad-681db824c0dd",
   "metadata": {},
   "source": [
    "## Quiz 1\n",
    "### Amanjit Gill"
   ]
  },
  {
   "cell_type": "code",
   "execution_count": 44,
   "id": "1bcfc6e6-6148-497e-b5a6-5cdbb0ed4b43",
   "metadata": {},
   "outputs": [],
   "source": [
    "from sympy import *\n",
    "from sympy.integrals import *"
   ]
  },
  {
   "cell_type": "markdown",
   "id": "863bca47-51a9-46e2-b361-370120266860",
   "metadata": {
    "tags": []
   },
   "source": [
    "#### Question 1"
   ]
  },
  {
   "cell_type": "markdown",
   "id": "e68efc9d-166e-48fd-9cc1-5c16588dece2",
   "metadata": {},
   "source": [
    "#### (a)"
   ]
  },
  {
   "cell_type": "code",
   "execution_count": 45,
   "id": "4d5c98ba-305e-41a4-8744-08d713475830",
   "metadata": {},
   "outputs": [],
   "source": [
    "# define symbols\n",
    "x1 = Symbol('x_1')\n",
    "x2 = Symbol('x_2')"
   ]
  },
  {
   "cell_type": "code",
   "execution_count": 46,
   "id": "91d1e8d1-3fcb-4eab-911e-c2dc599b5509",
   "metadata": {},
   "outputs": [
    {
     "data": {
      "text/latex": [
       "$\\displaystyle \\frac{e^{- \\frac{2 x_{1}}{x_{2}} - \\frac{x_{2}}{4}}}{2 x_{2}}$"
      ],
      "text/plain": [
       "exp(-2*x_1/x_2 - x_2/4)/(2*x_2)"
      ]
     },
     "execution_count": 46,
     "metadata": {},
     "output_type": "execute_result"
    }
   ],
   "source": [
    "# define joint density\n",
    "f = (1/(2*x2)) * exp(-(x2/4 + 2*x1/x2))\n",
    "f"
   ]
  },
  {
   "cell_type": "code",
   "execution_count": 47,
   "id": "5af22c6b-8f75-4da8-a0d3-5bd196cfc069",
   "metadata": {},
   "outputs": [
    {
     "data": {
      "text/latex": [
       "$\\displaystyle \\frac{e^{- \\frac{x_{2}}{4}}}{4}$"
      ],
      "text/plain": [
       "exp(-x_2/4)/4"
      ]
     },
     "execution_count": 47,
     "metadata": {},
     "output_type": "execute_result"
    }
   ],
   "source": [
    "# integrate to get marginal density of x2\n",
    "\n",
    "wrt = x1\n",
    "lower = 0\n",
    "upper = oo\n",
    "\n",
    "f_x2 = integrate(f, (wrt, lower, upper), conds='none')\n",
    "f_x2"
   ]
  },
  {
   "cell_type": "markdown",
   "id": "1f80744c-a33f-4de0-a042-3f30a4ac6ef2",
   "metadata": {},
   "source": [
    "#### (b)"
   ]
  },
  {
   "cell_type": "code",
   "execution_count": 48,
   "id": "1cae5427-b4b1-4570-94e1-22370c188350",
   "metadata": {},
   "outputs": [
    {
     "data": {
      "text/latex": [
       "$\\displaystyle \\frac{2 e^{- \\frac{2 x_{1}}{x_{2}}}}{x_{2}}$"
      ],
      "text/plain": [
       "2*exp(-2*x_1/x_2)/x_2"
      ]
     },
     "execution_count": 48,
     "metadata": {},
     "output_type": "execute_result"
    }
   ],
   "source": [
    "# divide f by f_x2 to get conditional probability of x1|x2\n",
    "\n",
    "f_x1_cond = simplify(f/f_x2)\n",
    "f_x1_cond"
   ]
  },
  {
   "cell_type": "markdown",
   "id": "d68beaa0-ffa6-499c-af3e-f19b2cc143f4",
   "metadata": {},
   "source": [
    "#### (c)"
   ]
  },
  {
   "cell_type": "code",
   "execution_count": 49,
   "id": "6222a921-e280-4f1c-8e90-b4e5d1a419b2",
   "metadata": {},
   "outputs": [
    {
     "data": {
      "text/latex": [
       "$\\displaystyle \\frac{x_{2}}{2}$"
      ],
      "text/plain": [
       "x_2/2"
      ]
     },
     "execution_count": 49,
     "metadata": {},
     "output_type": "execute_result"
    }
   ],
   "source": [
    "# obtain g*(X1) by E(X1 | X2 = x2)\n",
    "\n",
    "wrt = x1\n",
    "lower = 0\n",
    "upper = oo\n",
    "\n",
    "g_star = integrate(x1*f_x1_cond, (wrt, lower, upper), conds='none')\n",
    "g_star"
   ]
  },
  {
   "cell_type": "markdown",
   "id": "1b6bd107-7bad-443d-b19d-85b62d7b6902",
   "metadata": {},
   "source": [
    "#### (d)"
   ]
  },
  {
   "cell_type": "code",
   "execution_count": 76,
   "id": "0fb4157b-11dd-4bd8-84d0-2ed85d0a43cd",
   "metadata": {},
   "outputs": [
    {
     "data": {
      "text/latex": [
       "$\\displaystyle \\frac{x_{2}^{2}}{4}$"
      ],
      "text/plain": [
       "x_2**2/4"
      ]
     },
     "execution_count": 76,
     "metadata": {},
     "output_type": "execute_result"
    }
   ],
   "source": [
    "# MSE\n",
    "\n",
    "wrt = x1\n",
    "lower = 0\n",
    "upper = oo\n",
    "\n",
    "integrate((x1 - x2/2)**2 * f_x1_cond, (wrt, lower, upper), conds='none')"
   ]
  },
  {
   "cell_type": "markdown",
   "id": "cce7d0bd-5fe0-45db-8456-014ccffaab40",
   "metadata": {
    "tags": []
   },
   "source": [
    "#### Question 2"
   ]
  },
  {
   "cell_type": "markdown",
   "id": "feb2994a-b812-4f67-859e-060dbdf19da2",
   "metadata": {},
   "source": [
    "#### (a)"
   ]
  },
  {
   "cell_type": "code",
   "execution_count": 83,
   "id": "8333c90e-97d7-4e94-8730-26842b5aad6e",
   "metadata": {},
   "outputs": [
    {
     "data": {
      "text/latex": [
       "$\\displaystyle \\lambda^{2} - 17 \\lambda + 63$"
      ],
      "text/plain": [
       "lambda**2 - 17*lambda + 63"
      ]
     },
     "execution_count": 83,
     "metadata": {},
     "output_type": "execute_result"
    }
   ],
   "source": [
    "# characteristic polynomial\n",
    "\n",
    "lam = Symbol('lambda')\n",
    "\n",
    "Sigma = Matrix([[8, 3],[3, 9]])\n",
    "\n",
    "char_poly = det(Sigma - lam*eye(2))\n",
    "char_poly"
   ]
  },
  {
   "cell_type": "markdown",
   "id": "f5d70f73-b28e-4912-84ee-fe2f1c19fae5",
   "metadata": {},
   "source": [
    "#### (b)"
   ]
  },
  {
   "cell_type": "code",
   "execution_count": 117,
   "id": "9c8ccc23-d839-44fc-a1c3-25e4478c6296",
   "metadata": {},
   "outputs": [
    {
     "data": {
      "text/plain": [
       "[17/2 - sqrt(37)/2, sqrt(37)/2 + 17/2]"
      ]
     },
     "execution_count": 117,
     "metadata": {},
     "output_type": "execute_result"
    }
   ],
   "source": [
    "# eigenvalues\n",
    "\n",
    "eigs = solve(char_poly, lam)\n",
    "eigs"
   ]
  },
  {
   "cell_type": "code",
   "execution_count": 163,
   "id": "8cc912b8-cbf0-434f-86af-95b5aed1f8e5",
   "metadata": {},
   "outputs": [
    {
     "data": {
      "text/plain": [
       "[(17/2 - sqrt(37)/2,\n",
       "  1,\n",
       "  [Matrix([\n",
       "   [-sqrt(37)/6 - 1/6],\n",
       "   [                1]])]),\n",
       " (sqrt(37)/2 + 17/2,\n",
       "  1,\n",
       "  [Matrix([\n",
       "   [-1/6 + sqrt(37)/6],\n",
       "   [                1]])])]"
      ]
     },
     "execution_count": 163,
     "metadata": {},
     "output_type": "execute_result"
    }
   ],
   "source": [
    "# eigenvectors\n",
    "\n",
    "Sigma.eigenvects()"
   ]
  },
  {
   "cell_type": "code",
   "execution_count": 219,
   "id": "4349403b-0811-4b21-8f85-15f0cc39ae5e",
   "metadata": {},
   "outputs": [
    {
     "data": {
      "text/latex": [
       "$\\displaystyle \\left[\\begin{matrix}\\frac{- \\sqrt{37} - 1}{\\sqrt{2 \\sqrt{37} + 74}}\\\\\\frac{6}{\\sqrt{2 \\sqrt{37} + 74}}\\end{matrix}\\right]$"
      ],
      "text/plain": [
       "Matrix([\n",
       "[(-sqrt(37) - 1)/sqrt(2*sqrt(37) + 74)],\n",
       "[              6/sqrt(2*sqrt(37) + 74)]])"
      ]
     },
     "execution_count": 219,
     "metadata": {},
     "output_type": "execute_result"
    }
   ],
   "source": [
    "# normalise eigenvector (17 - sqrt(37))/2\n",
    "\n",
    "vect1 = Sigma.eigenvects()[0][2][0]\n",
    "length = sqrt(vect1[0]**2 + vect1[1]**2)\n",
    "vect1_norm = cancel(vect1/length)\n",
    "vect1_norm"
   ]
  },
  {
   "cell_type": "code",
   "execution_count": 227,
   "id": "8b9ecb2b-0cc3-40a4-a38a-9ddf84f515fb",
   "metadata": {},
   "outputs": [
    {
     "data": {
      "text/latex": [
       "$\\displaystyle \\left[\\begin{matrix}-0.763\\\\0.6464\\end{matrix}\\right]$"
      ],
      "text/plain": [
       "Matrix([\n",
       "[-0.763],\n",
       "[0.6464]])"
      ]
     },
     "execution_count": 227,
     "metadata": {},
     "output_type": "execute_result"
    }
   ],
   "source": [
    "vect1_norm.applyfunc(lambda x : round(x, 4))"
   ]
  },
  {
   "cell_type": "code",
   "execution_count": 221,
   "id": "c8cf5255-1e6c-4d98-9ed7-2d785c66417c",
   "metadata": {},
   "outputs": [
    {
     "data": {
      "text/latex": [
       "$\\displaystyle \\left[\\begin{matrix}\\frac{-1 + \\sqrt{37}}{\\sqrt{74 - 2 \\sqrt{37}}}\\\\\\frac{6}{\\sqrt{74 - 2 \\sqrt{37}}}\\end{matrix}\\right]$"
      ],
      "text/plain": [
       "Matrix([\n",
       "[(-1 + sqrt(37))/sqrt(74 - 2*sqrt(37))],\n",
       "[              6/sqrt(74 - 2*sqrt(37))]])"
      ]
     },
     "execution_count": 221,
     "metadata": {},
     "output_type": "execute_result"
    }
   ],
   "source": [
    "# normalise eigenvector (17 + sqrt(37))/2\n",
    "\n",
    "vect2 = Sigma.eigenvects()[1][2][0]\n",
    "length = sqrt(vect2[0]**2 + vect2[1]**2)\n",
    "vect2_norm = cancel(vect2/length)\n",
    "vect2_norm"
   ]
  },
  {
   "cell_type": "code",
   "execution_count": 228,
   "id": "1f609d02-cccb-4af8-af32-78ea7532e6c0",
   "metadata": {},
   "outputs": [
    {
     "data": {
      "text/latex": [
       "$\\displaystyle \\left[\\begin{matrix}0.6464\\\\0.763\\end{matrix}\\right]$"
      ],
      "text/plain": [
       "Matrix([\n",
       "[0.6464],\n",
       "[ 0.763]])"
      ]
     },
     "execution_count": 228,
     "metadata": {},
     "output_type": "execute_result"
    }
   ],
   "source": [
    "vect2_norm.applyfunc(lambda x : round(x, 4))"
   ]
  },
  {
   "cell_type": "markdown",
   "id": "c965ce9d-a545-4b8e-b611-397221c0bebd",
   "metadata": {},
   "source": [
    "#### (c)"
   ]
  },
  {
   "cell_type": "code",
   "execution_count": 251,
   "id": "441dee8d-383c-4d69-912b-c27acb63a99b",
   "metadata": {},
   "outputs": [
    {
     "data": {
      "text/latex": [
       "$\\displaystyle \\left[\\begin{matrix}2.77961 & 0.523229\\\\0.523229 & 2.95402\\end{matrix}\\right]$"
      ],
      "text/plain": [
       "Matrix([\n",
       "[ 2.77961, 0.523229],\n",
       "[0.523229,  2.95402]])"
      ]
     },
     "execution_count": 251,
     "metadata": {},
     "output_type": "execute_result"
    }
   ],
   "source": [
    "# use eigenvalues and eigenvectors to compute X^(1/2)\n",
    "eigval1 = Sigma.eigenvects()[0][0]\n",
    "eigval2 = Sigma.eigenvects()[1][0]\n",
    "\n",
    "(sqrt(eigval1)*vect1_norm*vect1_norm.T + sqrt(eigval2)*vect2_norm*vect2_norm.T).evalf(6)"
   ]
  },
  {
   "cell_type": "markdown",
   "id": "f456d0d4-4099-47c5-a299-418aa8b94dcc",
   "metadata": {},
   "source": [
    "#### (d)"
   ]
  },
  {
   "cell_type": "code",
   "execution_count": 254,
   "id": "1f4847e0-9a21-4ffc-ab86-c600c19a04d1",
   "metadata": {},
   "outputs": [
    {
     "data": {
      "text/latex": [
       "$\\displaystyle \\left[\\begin{matrix}0.372171 & -0.0659206\\\\-0.0659206 & 0.350198\\end{matrix}\\right]$"
      ],
      "text/plain": [
       "Matrix([\n",
       "[  0.372171, -0.0659206],\n",
       "[-0.0659206,   0.350198]])"
      ]
     },
     "execution_count": 254,
     "metadata": {},
     "output_type": "execute_result"
    }
   ],
   "source": [
    "# use eigenvalues and eigenvectors to compute X^(1/2)\n",
    "\n",
    "(eigval1**-0.5*vect1_norm*vect1_norm.T + eigval2**-0.5*vect2_norm*vect2_norm.T).evalf(6)"
   ]
  }
 ],
 "metadata": {
  "kernelspec": {
   "display_name": "Python 3 (ipykernel)",
   "language": "python",
   "name": "python3"
  },
  "language_info": {
   "codemirror_mode": {
    "name": "ipython",
    "version": 3
   },
   "file_extension": ".py",
   "mimetype": "text/x-python",
   "name": "python",
   "nbconvert_exporter": "python",
   "pygments_lexer": "ipython3",
   "version": "3.10.4"
  }
 },
 "nbformat": 4,
 "nbformat_minor": 5
}
