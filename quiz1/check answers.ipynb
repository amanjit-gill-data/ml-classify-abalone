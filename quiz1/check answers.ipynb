{
 "cells": [
  {
   "cell_type": "code",
   "execution_count": 26,
   "id": "c5685fae-9450-45f1-8fba-0a50c93ae68a",
   "metadata": {},
   "outputs": [],
   "source": [
    "from sympy import *\n",
    "from sympy.integrals import *\n",
    "from sympy.stats import *"
   ]
  },
  {
   "cell_type": "code",
   "execution_count": 10,
   "id": "fda1953d-5e82-4008-a3e5-809e94950b6d",
   "metadata": {},
   "outputs": [],
   "source": [
    "m = Matrix([[8, 3],[3, 9]])"
   ]
  },
  {
   "cell_type": "code",
   "execution_count": 20,
   "id": "007c83f9-d637-4c22-8d90-6a10b3cdbaa0",
   "metadata": {},
   "outputs": [
    {
     "data": {
      "text/latex": [
       "$\\displaystyle \\left[\\begin{matrix}2.7796 & 0.5232\\\\0.5232 & 2.954\\end{matrix}\\right]$"
      ],
      "text/plain": [
       "Matrix([\n",
       "[2.7796, 0.5232],\n",
       "[0.5232,  2.954]])"
      ]
     },
     "execution_count": 20,
     "metadata": {},
     "output_type": "execute_result"
    }
   ],
   "source": [
    "# Q2c\n",
    "(m**0.5).applyfunc(lambda x : round(x, 4))"
   ]
  },
  {
   "cell_type": "code",
   "execution_count": 21,
   "id": "46799306-f1b7-4051-a115-e904d875f5e9",
   "metadata": {},
   "outputs": [
    {
     "data": {
      "text/latex": [
       "$\\displaystyle \\left[\\begin{matrix}0.3722 & -0.0659\\\\-0.0659 & 0.3502\\end{matrix}\\right]$"
      ],
      "text/plain": [
       "Matrix([\n",
       "[ 0.3722, -0.0659],\n",
       "[-0.0659,  0.3502]])"
      ]
     },
     "execution_count": 21,
     "metadata": {},
     "output_type": "execute_result"
    }
   ],
   "source": [
    "# Q2d\n",
    "(m**-0.5).applyfunc(lambda x : round(x, 4))"
   ]
  },
  {
   "cell_type": "code",
   "execution_count": null,
   "id": "a3d2b271-ec00-4559-8537-d5a4893e264a",
   "metadata": {},
   "outputs": [],
   "source": []
  },
  {
   "cell_type": "code",
   "execution_count": 45,
   "id": "0f09983a-4d37-4079-bcc2-1d150186c27f",
   "metadata": {},
   "outputs": [
    {
     "data": {
      "text/latex": [
       "$\\displaystyle -2.99357536780588$"
      ],
      "text/plain": [
       "-2.99357536780588"
      ]
     },
     "execution_count": 45,
     "metadata": {},
     "output_type": "execute_result"
    }
   ],
   "source": [
    "#3a\n",
    "\n",
    "xbar = Matrix([-1.2, -3.9])\n",
    "S = Matrix([[6, 1],[1, 6]])\n",
    "\n",
    "p = 2\n",
    "n = 12\n",
    "f_crit = 2.924466\n",
    "t_crit = 1.36343\n",
    "scale = p*(n-1)*f_crit/(n*(n-p))\n",
    "\n"
   ]
  },
  {
   "cell_type": "code",
   "execution_count": 47,
   "id": "5bb21be4-33e6-4959-9952-88b5e1721bc7",
   "metadata": {},
   "outputs": [
    {
     "data": {
      "text/latex": [
       "$\\displaystyle -2.99357536780588$"
      ],
      "text/plain": [
       "-2.99357536780588"
      ]
     },
     "execution_count": 47,
     "metadata": {},
     "output_type": "execute_result"
    }
   ],
   "source": [
    "-1.2 - sqrt(scale*6)"
   ]
  },
  {
   "cell_type": "code",
   "execution_count": 48,
   "id": "141ede11-9d7e-4841-8f6b-a0463792cdc0",
   "metadata": {},
   "outputs": [
    {
     "data": {
      "text/latex": [
       "$\\displaystyle 0.593575367805881$"
      ],
      "text/plain": [
       "0.593575367805881"
      ]
     },
     "execution_count": 48,
     "metadata": {},
     "output_type": "execute_result"
    }
   ],
   "source": [
    "-1.2 + sqrt(scale*6)"
   ]
  },
  {
   "cell_type": "code",
   "execution_count": 50,
   "id": "6893c0b0-3680-4664-98d8-01531b5506e0",
   "metadata": {},
   "outputs": [
    {
     "data": {
      "text/latex": [
       "$\\displaystyle -5.69357536780588$"
      ],
      "text/plain": [
       "-5.69357536780588"
      ]
     },
     "execution_count": 50,
     "metadata": {},
     "output_type": "execute_result"
    }
   ],
   "source": [
    "-3.9 - sqrt(scale*6)"
   ]
  },
  {
   "cell_type": "code",
   "execution_count": 51,
   "id": "a6fcdd7c-82b2-4ad6-b6cf-3dff13329846",
   "metadata": {},
   "outputs": [
    {
     "data": {
      "text/latex": [
       "$\\displaystyle -2.10642463219412$"
      ],
      "text/plain": [
       "-2.10642463219412"
      ]
     },
     "execution_count": 51,
     "metadata": {},
     "output_type": "execute_result"
    }
   ],
   "source": [
    "-3.9 + sqrt(scale*6)"
   ]
  },
  {
   "cell_type": "code",
   "execution_count": 61,
   "id": "f76d5ff4-43d1-48d9-8bbf-36ed7ac78a92",
   "metadata": {},
   "outputs": [
    {
     "data": {
      "text/latex": [
       "$\\displaystyle -2.75633141878987$"
      ],
      "text/plain": [
       "-2.75633141878987"
      ]
     },
     "execution_count": 61,
     "metadata": {},
     "output_type": "execute_result"
    }
   ],
   "source": [
    "#3d\n",
    "\n",
    "t_crit = 2.200985\n",
    "\n",
    "-1.2 - t_crit*sqrt(6/12)"
   ]
  },
  {
   "cell_type": "code",
   "execution_count": 62,
   "id": "ff2796b3-e12e-40e9-8ff2-fcdd55419962",
   "metadata": {},
   "outputs": [
    {
     "data": {
      "text/latex": [
       "$\\displaystyle 0.356331418789874$"
      ],
      "text/plain": [
       "0.356331418789874"
      ]
     },
     "execution_count": 62,
     "metadata": {},
     "output_type": "execute_result"
    }
   ],
   "source": [
    "-1.2 + t_crit*sqrt(6/12)"
   ]
  },
  {
   "cell_type": "code",
   "execution_count": 63,
   "id": "e038eaf5-c029-4a79-93c8-aaec968b6913",
   "metadata": {},
   "outputs": [
    {
     "data": {
      "text/latex": [
       "$\\displaystyle -5.45633141878987$"
      ],
      "text/plain": [
       "-5.45633141878987"
      ]
     },
     "execution_count": 63,
     "metadata": {},
     "output_type": "execute_result"
    }
   ],
   "source": [
    "-3.9 - t_crit*sqrt(6/12)"
   ]
  },
  {
   "cell_type": "code",
   "execution_count": 65,
   "id": "aac01744-091b-4a65-a030-a3f408acefc7",
   "metadata": {},
   "outputs": [
    {
     "data": {
      "text/latex": [
       "$\\displaystyle -2.34366858121013$"
      ],
      "text/plain": [
       "-2.34366858121013"
      ]
     },
     "execution_count": 65,
     "metadata": {},
     "output_type": "execute_result"
    }
   ],
   "source": [
    "-3.9 + t_crit*sqrt(6/12)"
   ]
  },
  {
   "cell_type": "code",
   "execution_count": null,
   "id": "a4f19478-3249-4d52-a643-d686d8dd3f58",
   "metadata": {},
   "outputs": [],
   "source": []
  },
  {
   "cell_type": "code",
   "execution_count": null,
   "id": "e2f05630-c93d-4007-83ad-087e416a9628",
   "metadata": {},
   "outputs": [],
   "source": []
  }
 ],
 "metadata": {
  "kernelspec": {
   "display_name": "Python 3 (ipykernel)",
   "language": "python",
   "name": "python3"
  },
  "language_info": {
   "codemirror_mode": {
    "name": "ipython",
    "version": 3
   },
   "file_extension": ".py",
   "mimetype": "text/x-python",
   "name": "python",
   "nbconvert_exporter": "python",
   "pygments_lexer": "ipython3",
   "version": "3.10.4"
  }
 },
 "nbformat": 4,
 "nbformat_minor": 5
}
